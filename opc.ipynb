{
 "cells": [
  {
   "cell_type": "code",
   "execution_count": 3,
   "metadata": {},
   "outputs": [],
   "source": [
    "import logging, time, sys, decimal, OpenOPC\n",
    "from datetime import datetime\n",
    "from opcua import ua, uamethod, Server"
   ]
  },
  {
   "cell_type": "code",
   "execution_count": null,
   "metadata": {},
   "outputs": [],
   "source": []
  },
  {
   "cell_type": "code",
   "execution_count": 4,
   "metadata": {},
   "outputs": [],
   "source": [
    "## 1. Configuration\n",
    "OPC_DA_SERVER = 'Matrikon.OPC.Simulation.1'\n",
    "OPC_UA_CERTIFICATE = 'C:/Users/BUGER/Desktop/ca.der'\n",
    "OPC_UA_PRIVATE_KEY = '7bccbe83b08d5bb8bd40c069a73e1b51a9778cee'\n",
    "OPC_UA_URI = 'opc.tcp://127.0.0.1:49310'"
   ]
  },
  {
   "cell_type": "code",
   "execution_count": 5,
   "metadata": {},
   "outputs": [],
   "source": [
    "# Constants\n",
    "ITEM_ID_VIRTUAL_PROPERTY = 0\n",
    "ITEM_CANONICAL_DATATYPE = 1\n",
    "ITEM_VALUE = 2\n",
    "ITEM_QUALITY = 3\n",
    "ITEM_TIMESTAMP = 4\n",
    "ITEM_ACCESS_RIGHTS = 5\n",
    "SERVER_SCAN_RATE = 6\n",
    "ITEM_EU_TYPE = 7\n",
    "ITEM_EU_INFO = 8\n",
    "ITEM_DESCRIPTION = 101\n",
    "ACCESS_READ = 0\n",
    "ACCESS_WRITE = 1\n",
    "ACCESS_READ_WRITE = 2"
   ]
  },
  {
   "cell_type": "markdown",
   "metadata": {},
   "source": []
  },
  {
   "cell_type": "code",
   "execution_count": 6,
   "metadata": {},
   "outputs": [],
   "source": [
    "  opc = OpenOPC.client() "
   ]
  },
  {
   "cell_type": "code",
   "execution_count": 7,
   "metadata": {},
   "outputs": [
    {
     "data": {
      "text/plain": [
       "[u'Intellution.IntellutionGatewayOPCServer', u'Matrikon.OPC.Simulation.1']"
      ]
     },
     "execution_count": 7,
     "metadata": {},
     "output_type": "execute_result"
    }
   ],
   "source": [
    "opc.servers()"
   ]
  },
  {
   "cell_type": "code",
   "execution_count": 8,
   "metadata": {},
   "outputs": [],
   "source": [
    "opc.connect('Matrikon.OPC.Simulation.1')"
   ]
  },
  {
   "cell_type": "code",
   "execution_count": 9,
   "metadata": {},
   "outputs": [
    {
     "data": {
      "text/plain": [
       "[('Protocol', 'DCOM'),\n",
       " ('Class', 'Matrikon.OPC.Automation'),\n",
       " ('Client Name', u'OpenOPC'),\n",
       " ('OPC Host', 'DESKTOP-IHBHDGT'),\n",
       " ('OPC Server', u'Matrikon.OPC.Simulation.1'),\n",
       " ('State', 'Running'),\n",
       " ('Version', '1.7 (Build 7433)'),\n",
       " ('Browser', 'Hierarchical'),\n",
       " ('Start Time', '12/05/19 15:32:34'),\n",
       " ('Current Time', '12/05/19 15:32:36'),\n",
       " ('Vendor', u'Matrikon Inc +1-780-945-4011 http://www.matrikonopc.com')]"
      ]
     },
     "execution_count": 9,
     "metadata": {},
     "output_type": "execute_result"
    }
   ],
   "source": [
    "opc.info()"
   ]
  },
  {
   "cell_type": "code",
   "execution_count": 10,
   "metadata": {},
   "outputs": [
    {
     "data": {
      "text/plain": [
       "(None, 'Error', None)"
      ]
     },
     "execution_count": 10,
     "metadata": {},
     "output_type": "execute_result"
    }
   ],
   "source": [
    "opc.read('test.AI')"
   ]
  },
  {
   "cell_type": "code",
   "execution_count": 103,
   "metadata": {},
   "outputs": [],
   "source": [
    "server.stop()"
   ]
  },
  {
   "cell_type": "code",
   "execution_count": 105,
   "metadata": {},
   "outputs": [
    {
     "ename": "error",
     "evalue": "[Errno 10048] error while attempting to bind on address ('192.168.2.32', 48400): 通常每个套接字地址(协议/网络地址/端口)",
     "output_type": "error",
     "traceback": [
      "\u001b[1;31m---------------------------------------------------------------------------\u001b[0m",
      "\u001b[1;31merror\u001b[0m                                     Traceback (most recent call last)",
      "\u001b[1;32m<ipython-input-105-c0324af93913>\u001b[0m in \u001b[0;36m<module>\u001b[1;34m()\u001b[0m\n\u001b[0;32m      1\u001b[0m \u001b[0mserver\u001b[0m \u001b[1;33m=\u001b[0m \u001b[0mServer\u001b[0m\u001b[1;33m(\u001b[0m\u001b[1;33m)\u001b[0m\u001b[1;33m\u001b[0m\u001b[0m\n\u001b[0;32m      2\u001b[0m \u001b[0mserver\u001b[0m\u001b[1;33m.\u001b[0m\u001b[0mset_endpoint\u001b[0m\u001b[1;33m(\u001b[0m\u001b[1;34m\"opc.tcp://192.168.2.32:48400/freeopcua/server/\"\u001b[0m\u001b[1;33m)\u001b[0m\u001b[1;33m\u001b[0m\u001b[0m\n\u001b[1;32m----> 3\u001b[1;33m \u001b[0mserver\u001b[0m\u001b[1;33m.\u001b[0m\u001b[0mstart\u001b[0m\u001b[1;33m(\u001b[0m\u001b[1;33m)\u001b[0m\u001b[1;33m\u001b[0m\u001b[0m\n\u001b[0m",
      "\u001b[1;32mc:\\python27\\lib\\site-packages\\opcua\\server\\server.pyc\u001b[0m in \u001b[0;36mstart\u001b[1;34m(self)\u001b[0m\n\u001b[0;32m    319\u001b[0m         \u001b[1;32mexcept\u001b[0m \u001b[0mException\u001b[0m \u001b[1;32mas\u001b[0m \u001b[0mexp\u001b[0m\u001b[1;33m:\u001b[0m\u001b[1;33m\u001b[0m\u001b[0m\n\u001b[0;32m    320\u001b[0m             \u001b[0mself\u001b[0m\u001b[1;33m.\u001b[0m\u001b[0miserver\u001b[0m\u001b[1;33m.\u001b[0m\u001b[0mstop\u001b[0m\u001b[1;33m(\u001b[0m\u001b[1;33m)\u001b[0m\u001b[1;33m\u001b[0m\u001b[0m\n\u001b[1;32m--> 321\u001b[1;33m             \u001b[1;32mraise\u001b[0m \u001b[0mexp\u001b[0m\u001b[1;33m\u001b[0m\u001b[0m\n\u001b[0m\u001b[0;32m    322\u001b[0m \u001b[1;33m\u001b[0m\u001b[0m\n\u001b[0;32m    323\u001b[0m     \u001b[1;32mdef\u001b[0m \u001b[0mstop\u001b[0m\u001b[1;33m(\u001b[0m\u001b[0mself\u001b[0m\u001b[1;33m)\u001b[0m\u001b[1;33m:\u001b[0m\u001b[1;33m\u001b[0m\u001b[0m\n",
      "\u001b[1;31merror\u001b[0m: [Errno 10048] error while attempting to bind on address ('192.168.2.32', 48400): 通常每个套接字地址(协议/网络地址/端口)"
     ]
    }
   ],
   "source": [
    "server = Server()\n",
    "server.set_endpoint(\"opc.tcp://192.168.2.32:48400/freeopcua/server/\")\n",
    "server.start()"
   ]
  },
  {
   "cell_type": "code",
   "execution_count": 87,
   "metadata": {},
   "outputs": [],
   "source": [
    "# Set up server\n",
    "#server.load_certificate(OPC_UA_CERTIFICATE)\n",
    "#server.load_private_key(OPC_UA_PRIVATE_KEY)\n",
    "uri = OPC_UA_URI\n",
    "idx = server.register_namespace(uri)\n",
    "root = server.nodes.objects.add_object(idx, OPC_DA_SERVER)"
   ]
  },
  {
   "cell_type": "code",
   "execution_count": 88,
   "metadata": {},
   "outputs": [],
   "source": [
    "## 2. Connect to OPC-DA server\n",
    "c = OpenOPC.client()"
   ]
  },
  {
   "cell_type": "code",
   "execution_count": 85,
   "metadata": {},
   "outputs": [
    {
     "ename": "AttributeError",
     "evalue": "'NoneType' object has no attribute 'call_soon_threadsafe'",
     "output_type": "error",
     "traceback": [
      "\u001b[1;31m---------------------------------------------------------------------------\u001b[0m",
      "\u001b[1;31mAttributeError\u001b[0m                            Traceback (most recent call last)",
      "\u001b[1;32m<ipython-input-85-a3019ec459e3>\u001b[0m in \u001b[0;36m<module>\u001b[1;34m()\u001b[0m\n\u001b[0;32m     94\u001b[0m             \u001b[0mvariable_handle\u001b[0m\u001b[1;33m.\u001b[0m\u001b[0mset_value\u001b[0m\u001b[1;33m(\u001b[0m\u001b[0mread_value\u001b[0m\u001b[1;33m(\u001b[0m\u001b[0mreading\u001b[0m\u001b[1;33m[\u001b[0m\u001b[1;36m1\u001b[0m\u001b[1;33m:\u001b[0m\u001b[1;33m]\u001b[0m\u001b[1;33m)\u001b[0m\u001b[1;33m)\u001b[0m\u001b[1;33m\u001b[0m\u001b[0m\n\u001b[0;32m     95\u001b[0m \u001b[1;32mfinally\u001b[0m\u001b[1;33m:\u001b[0m\u001b[1;33m\u001b[0m\u001b[0m\n\u001b[1;32m---> 96\u001b[1;33m     \u001b[0mserver\u001b[0m\u001b[1;33m.\u001b[0m\u001b[0mstop\u001b[0m\u001b[1;33m(\u001b[0m\u001b[1;33m)\u001b[0m\u001b[1;33m\u001b[0m\u001b[0m\n\u001b[0m\u001b[0;32m     97\u001b[0m     \u001b[0mcc\u001b[0m\u001b[1;33m.\u001b[0m\u001b[0mclose\u001b[0m\u001b[1;33m(\u001b[0m\u001b[1;33m)\u001b[0m\u001b[1;33m\u001b[0m\u001b[0m\n",
      "\u001b[1;32mc:\\python27\\lib\\site-packages\\opcua\\server\\server.pyc\u001b[0m in \u001b[0;36mstop\u001b[1;34m(self)\u001b[0m\n\u001b[0;32m    325\u001b[0m         \u001b[0mStop\u001b[0m \u001b[0mserver\u001b[0m\u001b[1;33m\u001b[0m\u001b[0m\n\u001b[0;32m    326\u001b[0m         \"\"\"\n\u001b[1;32m--> 327\u001b[1;33m         \u001b[0mself\u001b[0m\u001b[1;33m.\u001b[0m\u001b[0mbserver\u001b[0m\u001b[1;33m.\u001b[0m\u001b[0mstop\u001b[0m\u001b[1;33m(\u001b[0m\u001b[1;33m)\u001b[0m\u001b[1;33m\u001b[0m\u001b[0m\n\u001b[0m\u001b[0;32m    328\u001b[0m         \u001b[0mself\u001b[0m\u001b[1;33m.\u001b[0m\u001b[0miserver\u001b[0m\u001b[1;33m.\u001b[0m\u001b[0mstop\u001b[0m\u001b[1;33m(\u001b[0m\u001b[1;33m)\u001b[0m\u001b[1;33m\u001b[0m\u001b[0m\n\u001b[0;32m    329\u001b[0m \u001b[1;33m\u001b[0m\u001b[0m\n",
      "\u001b[1;32mc:\\python27\\lib\\site-packages\\opcua\\server\\binary_server_asyncio.pyc\u001b[0m in \u001b[0;36mstop\u001b[1;34m(self)\u001b[0m\n\u001b[0;32m    130\u001b[0m             \u001b[0mtransport\u001b[0m\u001b[1;33m.\u001b[0m\u001b[0mclose\u001b[0m\u001b[1;33m(\u001b[0m\u001b[1;33m)\u001b[0m\u001b[1;33m\u001b[0m\u001b[0m\n\u001b[0;32m    131\u001b[0m         \u001b[1;32mif\u001b[0m \u001b[0mself\u001b[0m\u001b[1;33m.\u001b[0m\u001b[0m_server\u001b[0m\u001b[1;33m:\u001b[0m\u001b[1;33m\u001b[0m\u001b[0m\n\u001b[1;32m--> 132\u001b[1;33m             \u001b[0mself\u001b[0m\u001b[1;33m.\u001b[0m\u001b[0mloop\u001b[0m\u001b[1;33m.\u001b[0m\u001b[0mcall_soon\u001b[0m\u001b[1;33m(\u001b[0m\u001b[0mself\u001b[0m\u001b[1;33m.\u001b[0m\u001b[0m_server\u001b[0m\u001b[1;33m.\u001b[0m\u001b[0mclose\u001b[0m\u001b[1;33m)\u001b[0m\u001b[1;33m\u001b[0m\u001b[0m\n\u001b[0m\u001b[0;32m    133\u001b[0m             \u001b[0mself\u001b[0m\u001b[1;33m.\u001b[0m\u001b[0mloop\u001b[0m\u001b[1;33m.\u001b[0m\u001b[0mrun_coro_and_wait\u001b[0m\u001b[1;33m(\u001b[0m\u001b[0mself\u001b[0m\u001b[1;33m.\u001b[0m\u001b[0m_server\u001b[0m\u001b[1;33m.\u001b[0m\u001b[0mwait_closed\u001b[0m\u001b[1;33m(\u001b[0m\u001b[1;33m)\u001b[0m\u001b[1;33m)\u001b[0m\u001b[1;33m\u001b[0m\u001b[0m\n\u001b[0;32m    134\u001b[0m         \u001b[0mself\u001b[0m\u001b[1;33m.\u001b[0m\u001b[0mloop\u001b[0m \u001b[1;33m=\u001b[0m \u001b[0mNone\u001b[0m\u001b[1;33m\u001b[0m\u001b[0m\n",
      "\u001b[1;32mc:\\python27\\lib\\site-packages\\opcua\\common\\utils.pyc\u001b[0m in \u001b[0;36mcall_soon\u001b[1;34m(self, callback)\u001b[0m\n\u001b[0;32m    162\u001b[0m \u001b[1;33m\u001b[0m\u001b[0m\n\u001b[0;32m    163\u001b[0m     \u001b[1;32mdef\u001b[0m \u001b[0mcall_soon\u001b[0m\u001b[1;33m(\u001b[0m\u001b[0mself\u001b[0m\u001b[1;33m,\u001b[0m \u001b[0mcallback\u001b[0m\u001b[1;33m)\u001b[0m\u001b[1;33m:\u001b[0m\u001b[1;33m\u001b[0m\u001b[0m\n\u001b[1;32m--> 164\u001b[1;33m         \u001b[0mself\u001b[0m\u001b[1;33m.\u001b[0m\u001b[0mloop\u001b[0m\u001b[1;33m.\u001b[0m\u001b[0mcall_soon_threadsafe\u001b[0m\u001b[1;33m(\u001b[0m\u001b[0mcallback\u001b[0m\u001b[1;33m)\u001b[0m\u001b[1;33m\u001b[0m\u001b[0m\n\u001b[0m\u001b[0;32m    165\u001b[0m \u001b[1;33m\u001b[0m\u001b[0m\n\u001b[0;32m    166\u001b[0m     \u001b[1;32mdef\u001b[0m \u001b[0mcall_later\u001b[0m\u001b[1;33m(\u001b[0m\u001b[0mself\u001b[0m\u001b[1;33m,\u001b[0m \u001b[0mdelay\u001b[0m\u001b[1;33m,\u001b[0m \u001b[0mcallback\u001b[0m\u001b[1;33m)\u001b[0m\u001b[1;33m:\u001b[0m\u001b[1;33m\u001b[0m\u001b[0m\n",
      "\u001b[1;31mAttributeError\u001b[0m: 'NoneType' object has no attribute 'call_soon_threadsafe'"
     ]
    }
   ],
   "source": [
    "class SubscriptionHandler(object):\n",
    "    def __init__(self,n):\n",
    "        self.i = 0\n",
    "        self.n = n\n",
    "    def final_datachange_notification(self, node, val, data):\n",
    "        path_as_string = node.get_path_as_string()\n",
    "        # 'path_as_string' is a list of strings containing:\n",
    "        # 0: 0:Root\n",
    "        # 1: 1:Objects\n",
    "        # 2: 2:OPC DA Server\n",
    "        # 3 and onwards: 3:[Step of path to node in OPC-DA]\n",
    "        opc_da_address = '.'.join([a.split(':')[1] for a in path_as_string[3:]])\n",
    "        cc = OpenOPC.client()\n",
    "        cc.connect(OPC_DA_SERVER)\n",
    "        print('Datachange', opc_da_address, val, cc.write((opc_da_address, val,)))\n",
    "        cc.close()\n",
    "    # This function is called initially to catch the notifications from newly added nodes\n",
    "    def datachange_notification(self, node, val, data):\n",
    "        self.i = self.i + 1\n",
    "        #print('Catching meaningless datachange notification')\n",
    "        if self.i == self.n:\n",
    "            #print('Finished catching meaningless datachange notifications')\n",
    "            self.datachange_notification = self.final_datachange_notification\n",
    "\n",
    "def read_value(value):\n",
    "    value = value[0]\n",
    "    if isinstance(value,decimal.Decimal):\n",
    "        value = float(value)\n",
    "    elif isinstance(value,list):\n",
    "        if len(value) == 0:\n",
    "            value = None\n",
    "    elif isinstance(value,tuple):\n",
    "        if len(value) == 0:\n",
    "            value = None\n",
    "    return value\n",
    "\n",
    "## 3. Discover OPC-DA server nodes\n",
    "cc = OpenOPC.client()\n",
    "readable_variable_handles = {}\n",
    "writeable_variable_handles = {}\n",
    "nodes = cc.list('*',recursive=True)\n",
    "# 'nodes' is a list of dot-delimited strings.\n",
    "tree = {}\n",
    "for node in nodes:\n",
    "    parts = node.split('.')\n",
    "    # Folders are the steps on the path to the file.\n",
    "    folders = parts[:-1]\n",
    "    file = parts[-1]\n",
    "    # Create folder tree if it does not already exist\n",
    "    for i, folder in enumerate(folders,1):\n",
    "        if i == 1:\n",
    "            parent = root\n",
    "        else:\n",
    "            parent = tree[path]\n",
    "        path = '.'.join(folders[0:i])\n",
    "        if path not in tree.keys():\n",
    "            tree[path] = parent.add_folder(idx,folder)\n",
    "    # 'path' is now the folder that file resides in.\n",
    "    # Determine node properties\n",
    "    node_obj = {}\n",
    "    for id, description_of_id, value in c.properties(node):\n",
    "        if id is ITEM_ACCESS_RIGHTS:\n",
    "            if value == 'Read':\n",
    "                value = ACCESS_READ\n",
    "            elif value == 'Write':\n",
    "                value = ACCESS_WRITE\n",
    "            elif value == 'Read/Write':\n",
    "                value = ACCESS_READ_WRITE\n",
    "        node_obj[id] = value\n",
    "    current_value = read_value((node_obj[ITEM_VALUE],))\n",
    "    if type(current_value) != int:\n",
    "        current_value = 0\n",
    "    #print('Adding node '+file+' at path '+path)\n",
    "    opcua_node = tree[path].add_variable(idx, file, ua.Variant(current_value, ua.VariantType.UInt16))\n",
    "    # Determine readable vs. writable\n",
    "    if node_obj[ITEM_ACCESS_RIGHTS] in [ACCESS_READ]:\n",
    "        readable_variable_handles[node] = opcua_node\n",
    "    if node_obj[ITEM_ACCESS_RIGHTS] in [ACCESS_WRITE, ACCESS_READ_WRITE]:\n",
    "        opcua_node.set_writable()\n",
    "        writeable_variable_handles[node] = opcua_node\n",
    "\n",
    "try:\n",
    "    server.start()\n",
    "    ## 4. Subscribe to datachanges coming from OPC-UA clients\n",
    "    handler = SubscriptionHandler(len(writeable_variable_handles))\n",
    "    sub = server.create_subscription(100, handler).subscribe_data_change(writeable_variable_handles.values())\n",
    "    readables = list(readable_variable_handles.keys())\n",
    "    while True:\n",
    "        time.sleep(0.5)\n",
    "        ## 5. Read all readables simultaneously and update the OPC-UA variables\n",
    "        for reading in c.read(readables):\n",
    "            opc_da_id = reading[0]\n",
    "            variable_handle = readable_variable_handles[opc_da_id]\n",
    "            variable_handle.set_value(read_value(reading[1:]))\n",
    "finally:\n",
    "    server.stop()\n",
    "    cc.close()"
   ]
  }
 ],
 "metadata": {
  "kernelspec": {
   "display_name": "Python 2",
   "language": "python",
   "name": "python2"
  },
  "language_info": {
   "codemirror_mode": {
    "name": "ipython",
    "version": 2
   },
   "file_extension": ".py",
   "mimetype": "text/x-python",
   "name": "python",
   "nbconvert_exporter": "python",
   "pygments_lexer": "ipython2",
   "version": "2.7.15"
  }
 },
 "nbformat": 4,
 "nbformat_minor": 2
}
