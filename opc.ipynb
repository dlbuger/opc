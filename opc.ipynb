{
 "cells": [
  {
   "cell_type": "code",
   "execution_count": 1,
   "metadata": {},
   "outputs": [],
   "source": [
    "import logging, time, sys, decimal, OpenOPC\n",
    "from datetime import datetime\n",
    "from opcua import ua, uamethod, Server"
   ]
  },
  {
   "cell_type": "code",
   "execution_count": 2,
   "metadata": {},
   "outputs": [],
   "source": [
    "## 1. Configuration\n",
    "OPC_DA_SERVER = 'S7200.OPCServer'\n",
    "OPC_UA_CERTIFICATE = 'certificate.der'\n",
    "OPC_UA_PRIVATE_KEY = 'private_key.pem'\n",
    "OPC_UA_URI = 'http://dtu.dk'"
   ]
  },
  {
   "cell_type": "code",
   "execution_count": 3,
   "metadata": {},
   "outputs": [],
   "source": [
    "# Constants\n",
    "ITEM_ID_VIRTUAL_PROPERTY = 0\n",
    "ITEM_CANONICAL_DATATYPE = 1\n",
    "ITEM_VALUE = 2\n",
    "ITEM_QUALITY = 3\n",
    "ITEM_TIMESTAMP = 4\n",
    "ITEM_ACCESS_RIGHTS = 5\n",
    "SERVER_SCAN_RATE = 6\n",
    "ITEM_EU_TYPE = 7\n",
    "ITEM_EU_INFO = 8\n",
    "ITEM_DESCRIPTION = 101\n",
    "ACCESS_READ = 0\n",
    "ACCESS_WRITE = 1\n",
    "ACCESS_READ_WRITE = 2"
   ]
  },
  {
   "cell_type": "code",
   "execution_count": 4,
   "metadata": {},
   "outputs": [
    {
     "ename": "NameError",
     "evalue": "name 'pythoncom' is not defined",
     "output_type": "error",
     "traceback": [
      "\u001b[0;31m---------------------------------------------------------------------------\u001b[0m",
      "\u001b[0;31mNameError\u001b[0m                                 Traceback (most recent call last)",
      "\u001b[0;32m<ipython-input-4-1cb384691c7a>\u001b[0m in \u001b[0;36m<module>\u001b[0;34m\u001b[0m\n\u001b[1;32m      1\u001b[0m \u001b[0;31m# Set up server\u001b[0m\u001b[0;34m\u001b[0m\u001b[0;34m\u001b[0m\u001b[0;34m\u001b[0m\u001b[0m\n\u001b[0;32m----> 2\u001b[0;31m \u001b[0mopc\u001b[0m \u001b[0;34m=\u001b[0m \u001b[0mOpenOPC\u001b[0m\u001b[0;34m.\u001b[0m\u001b[0mclient\u001b[0m\u001b[0;34m(\u001b[0m\u001b[0;34m)\u001b[0m\u001b[0;34m\u001b[0m\u001b[0;34m\u001b[0m\u001b[0m\n\u001b[0m\u001b[1;32m      3\u001b[0m \u001b[0;34m\u001b[0m\u001b[0m\n\u001b[1;32m      4\u001b[0m \u001b[0mserver\u001b[0m \u001b[0;34m=\u001b[0m \u001b[0mopc\u001b[0m\u001b[0;34m.\u001b[0m\u001b[0mServers\u001b[0m\u001b[0;34m(\u001b[0m\u001b[0;34m)\u001b[0m\u001b[0;34m\u001b[0m\u001b[0;34m\u001b[0m\u001b[0m\n\u001b[1;32m      5\u001b[0m \u001b[0mserver\u001b[0m\u001b[0;34m.\u001b[0m\u001b[0mset_endpoint\u001b[0m\u001b[0;34m(\u001b[0m\u001b[0;34m'opc.tcp://kt-pr-4tank:4840/four_tank_process/'\u001b[0m\u001b[0;34m)\u001b[0m\u001b[0;34m\u001b[0m\u001b[0;34m\u001b[0m\u001b[0m\n",
      "\u001b[0;32m/usr/local/Caskroom/miniconda/4.6.14/miniconda3/lib/python3.7/site-packages/OpenOPC.py\u001b[0m in \u001b[0;36m__init__\u001b[0;34m(self, opc_class, client_name)\u001b[0m\n\u001b[1;32m    153\u001b[0m       \u001b[0mself\u001b[0m\u001b[0;34m.\u001b[0m\u001b[0mcallback_queue\u001b[0m \u001b[0;34m=\u001b[0m \u001b[0mQueue\u001b[0m\u001b[0;34m(\u001b[0m\u001b[0;34m)\u001b[0m\u001b[0;34m\u001b[0m\u001b[0;34m\u001b[0m\u001b[0m\n\u001b[1;32m    154\u001b[0m \u001b[0;34m\u001b[0m\u001b[0m\n\u001b[0;32m--> 155\u001b[0;31m       \u001b[0mpythoncom\u001b[0m\u001b[0;34m.\u001b[0m\u001b[0mCoInitialize\u001b[0m\u001b[0;34m(\u001b[0m\u001b[0;34m)\u001b[0m\u001b[0;34m\u001b[0m\u001b[0;34m\u001b[0m\u001b[0m\n\u001b[0m\u001b[1;32m    156\u001b[0m \u001b[0;34m\u001b[0m\u001b[0m\n\u001b[1;32m    157\u001b[0m       \u001b[0;32mif\u001b[0m \u001b[0mopc_class\u001b[0m \u001b[0;34m==\u001b[0m \u001b[0;32mNone\u001b[0m\u001b[0;34m:\u001b[0m\u001b[0;34m\u001b[0m\u001b[0;34m\u001b[0m\u001b[0m\n",
      "\u001b[0;31mNameError\u001b[0m: name 'pythoncom' is not defined"
     ]
    }
   ],
   "source": [
    "# Set up server\n",
    "opc = OpenOPC.client()\n",
    "\n",
    "server = opc.Servers()\n",
    "server.set_endpoint('opc.tcp://kt-pr-4tank:4840/four_tank_process/')\n",
    "server.load_certificate(OPC_UA_CERTIFICATE)\n",
    "server.load_private_key(OPC_UA_PRIVATE_KEY)\n",
    "uri = OPC_UA_URI\n",
    "idx = server.register_namespace(uri)\n",
    "root = server.nodes.objects.add_object(idx, OPC_DA_SERVER)"
   ]
  },
  {
   "cell_type": "code",
   "execution_count": 5,
   "metadata": {},
   "outputs": [
    {
     "ename": "NameError",
     "evalue": "name 'pythoncom' is not defined",
     "output_type": "error",
     "traceback": [
      "\u001b[0;31m---------------------------------------------------------------------------\u001b[0m",
      "\u001b[0;31mNameError\u001b[0m                                 Traceback (most recent call last)",
      "\u001b[0;32m<ipython-input-5-2f656605de88>\u001b[0m in \u001b[0;36m<module>\u001b[0;34m\u001b[0m\n\u001b[1;32m      1\u001b[0m \u001b[0;31m## 2. Connect to OPC-DA server\u001b[0m\u001b[0;34m\u001b[0m\u001b[0;34m\u001b[0m\u001b[0;34m\u001b[0m\u001b[0m\n\u001b[0;32m----> 2\u001b[0;31m \u001b[0mc\u001b[0m \u001b[0;34m=\u001b[0m \u001b[0mOpenOPC\u001b[0m\u001b[0;34m.\u001b[0m\u001b[0mclient\u001b[0m\u001b[0;34m(\u001b[0m\u001b[0;34m)\u001b[0m\u001b[0;34m\u001b[0m\u001b[0;34m\u001b[0m\u001b[0m\n\u001b[0m",
      "\u001b[0;32m/usr/local/Caskroom/miniconda/4.6.14/miniconda3/lib/python3.7/site-packages/OpenOPC.py\u001b[0m in \u001b[0;36m__init__\u001b[0;34m(self, opc_class, client_name)\u001b[0m\n\u001b[1;32m    153\u001b[0m       \u001b[0mself\u001b[0m\u001b[0;34m.\u001b[0m\u001b[0mcallback_queue\u001b[0m \u001b[0;34m=\u001b[0m \u001b[0mQueue\u001b[0m\u001b[0;34m(\u001b[0m\u001b[0;34m)\u001b[0m\u001b[0;34m\u001b[0m\u001b[0;34m\u001b[0m\u001b[0m\n\u001b[1;32m    154\u001b[0m \u001b[0;34m\u001b[0m\u001b[0m\n\u001b[0;32m--> 155\u001b[0;31m       \u001b[0mpythoncom\u001b[0m\u001b[0;34m.\u001b[0m\u001b[0mCoInitialize\u001b[0m\u001b[0;34m(\u001b[0m\u001b[0;34m)\u001b[0m\u001b[0;34m\u001b[0m\u001b[0;34m\u001b[0m\u001b[0m\n\u001b[0m\u001b[1;32m    156\u001b[0m \u001b[0;34m\u001b[0m\u001b[0m\n\u001b[1;32m    157\u001b[0m       \u001b[0;32mif\u001b[0m \u001b[0mopc_class\u001b[0m \u001b[0;34m==\u001b[0m \u001b[0;32mNone\u001b[0m\u001b[0;34m:\u001b[0m\u001b[0;34m\u001b[0m\u001b[0;34m\u001b[0m\u001b[0m\n",
      "\u001b[0;31mNameError\u001b[0m: name 'pythoncom' is not defined"
     ]
    }
   ],
   "source": [
    "## 2. Connect to OPC-DA server\n",
    "c = OpenOPC.client()"
   ]
  },
  {
   "cell_type": "code",
   "execution_count": 7,
   "metadata": {},
   "outputs": [
    {
     "ename": "NameError",
     "evalue": "name 'pythoncom' is not defined",
     "output_type": "error",
     "traceback": [
      "\u001b[0;31m---------------------------------------------------------------------------\u001b[0m",
      "\u001b[0;31mNameError\u001b[0m                                 Traceback (most recent call last)",
      "\u001b[0;32m<ipython-input-7-a3019ec459e3>\u001b[0m in \u001b[0;36m<module>\u001b[0;34m\u001b[0m\n\u001b[1;32m     36\u001b[0m \u001b[0;34m\u001b[0m\u001b[0m\n\u001b[1;32m     37\u001b[0m \u001b[0;31m## 3. Discover OPC-DA server nodes\u001b[0m\u001b[0;34m\u001b[0m\u001b[0;34m\u001b[0m\u001b[0;34m\u001b[0m\u001b[0m\n\u001b[0;32m---> 38\u001b[0;31m \u001b[0mcc\u001b[0m \u001b[0;34m=\u001b[0m \u001b[0mOpenOPC\u001b[0m\u001b[0;34m.\u001b[0m\u001b[0mclient\u001b[0m\u001b[0;34m(\u001b[0m\u001b[0;34m)\u001b[0m\u001b[0;34m\u001b[0m\u001b[0;34m\u001b[0m\u001b[0m\n\u001b[0m\u001b[1;32m     39\u001b[0m \u001b[0mreadable_variable_handles\u001b[0m \u001b[0;34m=\u001b[0m \u001b[0;34m{\u001b[0m\u001b[0;34m}\u001b[0m\u001b[0;34m\u001b[0m\u001b[0;34m\u001b[0m\u001b[0m\n\u001b[1;32m     40\u001b[0m \u001b[0mwriteable_variable_handles\u001b[0m \u001b[0;34m=\u001b[0m \u001b[0;34m{\u001b[0m\u001b[0;34m}\u001b[0m\u001b[0;34m\u001b[0m\u001b[0;34m\u001b[0m\u001b[0m\n",
      "\u001b[0;32m/usr/local/Caskroom/miniconda/4.6.14/miniconda3/lib/python3.7/site-packages/OpenOPC.py\u001b[0m in \u001b[0;36m__init__\u001b[0;34m(self, opc_class, client_name)\u001b[0m\n\u001b[1;32m    153\u001b[0m       \u001b[0mself\u001b[0m\u001b[0;34m.\u001b[0m\u001b[0mcallback_queue\u001b[0m \u001b[0;34m=\u001b[0m \u001b[0mQueue\u001b[0m\u001b[0;34m(\u001b[0m\u001b[0;34m)\u001b[0m\u001b[0;34m\u001b[0m\u001b[0;34m\u001b[0m\u001b[0m\n\u001b[1;32m    154\u001b[0m \u001b[0;34m\u001b[0m\u001b[0m\n\u001b[0;32m--> 155\u001b[0;31m       \u001b[0mpythoncom\u001b[0m\u001b[0;34m.\u001b[0m\u001b[0mCoInitialize\u001b[0m\u001b[0;34m(\u001b[0m\u001b[0;34m)\u001b[0m\u001b[0;34m\u001b[0m\u001b[0;34m\u001b[0m\u001b[0m\n\u001b[0m\u001b[1;32m    156\u001b[0m \u001b[0;34m\u001b[0m\u001b[0m\n\u001b[1;32m    157\u001b[0m       \u001b[0;32mif\u001b[0m \u001b[0mopc_class\u001b[0m \u001b[0;34m==\u001b[0m \u001b[0;32mNone\u001b[0m\u001b[0;34m:\u001b[0m\u001b[0;34m\u001b[0m\u001b[0;34m\u001b[0m\u001b[0m\n",
      "\u001b[0;31mNameError\u001b[0m: name 'pythoncom' is not defined"
     ]
    }
   ],
   "source": [
    "class SubscriptionHandler(object):\n",
    "    def __init__(self,n):\n",
    "        self.i = 0\n",
    "        self.n = n\n",
    "    def final_datachange_notification(self, node, val, data):\n",
    "        path_as_string = node.get_path_as_string()\n",
    "        # 'path_as_string' is a list of strings containing:\n",
    "        # 0: 0:Root\n",
    "        # 1: 1:Objects\n",
    "        # 2: 2:OPC DA Server\n",
    "        # 3 and onwards: 3:[Step of path to node in OPC-DA]\n",
    "        opc_da_address = '.'.join([a.split(':')[1] for a in path_as_string[3:]])\n",
    "        cc = OpenOPC.client()\n",
    "        cc.connect(OPC_DA_SERVER)\n",
    "        print('Datachange', opc_da_address, val, cc.write((opc_da_address, val,)))\n",
    "        cc.close()\n",
    "    # This function is called initially to catch the notifications from newly added nodes\n",
    "    def datachange_notification(self, node, val, data):\n",
    "        self.i = self.i + 1\n",
    "        #print('Catching meaningless datachange notification')\n",
    "        if self.i == self.n:\n",
    "            #print('Finished catching meaningless datachange notifications')\n",
    "            self.datachange_notification = self.final_datachange_notification\n",
    "\n",
    "def read_value(value):\n",
    "    value = value[0]\n",
    "    if isinstance(value,decimal.Decimal):\n",
    "        value = float(value)\n",
    "    elif isinstance(value,list):\n",
    "        if len(value) == 0:\n",
    "            value = None\n",
    "    elif isinstance(value,tuple):\n",
    "        if len(value) == 0:\n",
    "            value = None\n",
    "    return value\n",
    "\n",
    "## 3. Discover OPC-DA server nodes\n",
    "cc = OpenOPC.client()\n",
    "readable_variable_handles = {}\n",
    "writeable_variable_handles = {}\n",
    "nodes = cc.list('*',recursive=True)\n",
    "# 'nodes' is a list of dot-delimited strings.\n",
    "tree = {}\n",
    "for node in nodes:\n",
    "    parts = node.split('.')\n",
    "    # Folders are the steps on the path to the file.\n",
    "    folders = parts[:-1]\n",
    "    file = parts[-1]\n",
    "    # Create folder tree if it does not already exist\n",
    "    for i, folder in enumerate(folders,1):\n",
    "        if i == 1:\n",
    "            parent = root\n",
    "        else:\n",
    "            parent = tree[path]\n",
    "        path = '.'.join(folders[0:i])\n",
    "        if path not in tree.keys():\n",
    "            tree[path] = parent.add_folder(idx,folder)\n",
    "    # 'path' is now the folder that file resides in.\n",
    "    # Determine node properties\n",
    "    node_obj = {}\n",
    "    for id, description_of_id, value in c.properties(node):\n",
    "        if id is ITEM_ACCESS_RIGHTS:\n",
    "            if value == 'Read':\n",
    "                value = ACCESS_READ\n",
    "            elif value == 'Write':\n",
    "                value = ACCESS_WRITE\n",
    "            elif value == 'Read/Write':\n",
    "                value = ACCESS_READ_WRITE\n",
    "        node_obj[id] = value\n",
    "    current_value = read_value((node_obj[ITEM_VALUE],))\n",
    "    if type(current_value) != int:\n",
    "        current_value = 0\n",
    "    #print('Adding node '+file+' at path '+path)\n",
    "    opcua_node = tree[path].add_variable(idx, file, ua.Variant(current_value, ua.VariantType.UInt16))\n",
    "    # Determine readable vs. writable\n",
    "    if node_obj[ITEM_ACCESS_RIGHTS] in [ACCESS_READ]:\n",
    "        readable_variable_handles[node] = opcua_node\n",
    "    if node_obj[ITEM_ACCESS_RIGHTS] in [ACCESS_WRITE, ACCESS_READ_WRITE]:\n",
    "        opcua_node.set_writable()\n",
    "        writeable_variable_handles[node] = opcua_node\n",
    "\n",
    "try:\n",
    "    server.start()\n",
    "    ## 4. Subscribe to datachanges coming from OPC-UA clients\n",
    "    handler = SubscriptionHandler(len(writeable_variable_handles))\n",
    "    sub = server.create_subscription(100, handler).subscribe_data_change(writeable_variable_handles.values())\n",
    "    readables = list(readable_variable_handles.keys())\n",
    "    while True:\n",
    "        time.sleep(0.5)\n",
    "        ## 5. Read all readables simultaneously and update the OPC-UA variables\n",
    "        for reading in c.read(readables):\n",
    "            opc_da_id = reading[0]\n",
    "            variable_handle = readable_variable_handles[opc_da_id]\n",
    "            variable_handle.set_value(read_value(reading[1:]))\n",
    "finally:\n",
    "    server.stop()\n",
    "    cc.close()"
   ]
  }
 ],
 "metadata": {
  "kernelspec": {
   "display_name": "Python 3",
   "language": "python",
   "name": "python3"
  },
  "language_info": {
   "codemirror_mode": {
    "name": "ipython",
    "version": 3
   },
   "file_extension": ".py",
   "mimetype": "text/x-python",
   "name": "python",
   "nbconvert_exporter": "python",
   "pygments_lexer": "ipython3",
   "version": "3.7.3"
  }
 },
 "nbformat": 4,
 "nbformat_minor": 2
}
