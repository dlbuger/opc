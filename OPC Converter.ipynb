{
 "cells": [
  {
   "cell_type": "code",
   "execution_count": 1,
   "metadata": {},
   "outputs": [],
   "source": [
    "#!/usr/bin/python\n",
    "# -*- coding: UTF-8 -*-"
   ]
  },
  {
   "cell_type": "code",
   "execution_count": 2,
   "metadata": {},
   "outputs": [
    {
     "name": "stderr",
     "output_type": "stream",
     "text": [
      "No handlers could be found for logger \"opcua.client.client\"\n"
     ]
    }
   ],
   "source": [
    "import logging, time, sys, decimal, OpenOPC, ttk, tkFileDialog, urllib,urllib2\n",
    "\n",
    "from Tkinter import *\n",
    "import Tkinter as tk\n",
    "from datetime import datetime\n",
    "from opcua import ua, uamethod, Server"
   ]
  },
  {
   "cell_type": "code",
   "execution_count": 3,
   "metadata": {},
   "outputs": [],
   "source": [
    "logging.basicConfig()"
   ]
  },
  {
   "cell_type": "code",
   "execution_count": 4,
   "metadata": {},
   "outputs": [],
   "source": [
    "# Constants\n",
    "ITEM_ID_VIRTUAL_PROPERTY = 0\n",
    "ITEM_CANONICAL_DATATYPE = 1\n",
    "ITEM_VALUE = 2\n",
    "ITEM_QUALITY = 3\n",
    "ITEM_TIMESTAMP = 4\n",
    "ITEM_ACCESS_RIGHTS = 5\n",
    "SERVER_SCAN_RATE = 6\n",
    "ITEM_EU_TYPE = 7\n",
    "ITEM_EU_INFO = 8\n",
    "ITEM_DESCRIPTION = 101\n",
    "ACCESS_READ = 0\n",
    "ACCESS_WRITE = 1\n",
    "ACCESS_READ_WRITE = 2"
   ]
  },
  {
   "cell_type": "code",
   "execution_count": 5,
   "metadata": {},
   "outputs": [
    {
     "data": {
      "text/plain": [
       "''"
      ]
     },
     "execution_count": 5,
     "metadata": {},
     "output_type": "execute_result"
    }
   ],
   "source": [
    "window = tk.Tk()\n",
    "window.title('OPC Converter')\n",
    "window.geometry('800x200')"
   ]
  },
  {
   "cell_type": "code",
   "execution_count": 6,
   "metadata": {},
   "outputs": [],
   "source": [
    "## 2. Connect to OPC-DA server\n",
    "c = OpenOPC.client()\n",
    "# List OPC-DA servers\n",
    "#servers = c.servers()"
   ]
  },
  {
   "cell_type": "code",
   "execution_count": 7,
   "metadata": {
    "scrolled": true
   },
   "outputs": [
    {
     "data": {
      "text/plain": [
       "'48974824getComboBox'"
      ]
     },
     "execution_count": 7,
     "metadata": {},
     "output_type": "execute_result"
    }
   ],
   "source": [
    "#下拉菜单 选择OPC_DA服务器\n",
    "def getComboBox(*args):\n",
    "    OPC_DA_SERVER = 'Intellution.IntellutionGatewayOPCServer'\n",
    "L1 = tk.Label(window,text='Select a OPC_DA server:', width=30).grid(row = 0, column = 0)\n",
    "C1 = ttk.Combobox(window,value=(c.servers()), width = 40)\n",
    "C1.grid(row = 0, column = 1)\n",
    "C1.bind(\"<<ComboboxSelected>>\",getComboBox)\n"
   ]
  },
  {
   "cell_type": "code",
   "execution_count": 8,
   "metadata": {},
   "outputs": [],
   "source": [
    "#配置OPC_UA服务器\n",
    "def SelectCaPath():\n",
    "    path_Ca = tkFileDialog.askopenfilename(filetypes=[(\"der\",\"der\")])\n",
    "    pathCa.set(path_Ca)\n",
    "def SelectPkPath():\n",
    "    path_Pk = tkFileDialog.askopenfilename(filetypes=[(\"pem\",\"pem\")])\n",
    "    pathPk.set(path_Pk)\n",
    "pathCa = StringVar()\n",
    "pathPk = StringVar()\n",
    "\n",
    "# L2 = tk.Label(window, text = 'Set OPC_UA Certificate:', width = 30).grid(row = 1, column = 0)\n",
    "# E1 = tk.Entry(window, textvariable = pathCa, width = 40).grid(row = 1, column = 1)\n",
    "# B1 = tk.Button(window, text = 'Select file', command = SelectCaPath).grid(row = 1, column = 2)\n",
    "# L3 = tk.Label(window, text = 'Set OPC_UA Private_Key:', width = 30).grid(row = 2, column = 0)\n",
    "# E2 = tk.Entry(window, textvariable = pathPk, width = 40).grid(row = 2, column = 1)\n",
    "# B2 = tk.Button(window, text = 'Select file', command = SelectPkPath).grid(row = 2, column = 2)\n",
    "L4 = tk.Label(window, text = 'Set OPC_UA URI:', width = 30).grid(row = 3, column = 0)\n",
    "default_value_URI = StringVar()\n",
    "default_value_URI.set('urn:freeopcua:python:server')\n",
    "E3 = tk.Entry(window, width = 40, textvariable = default_value_URI)\n",
    "E3.grid(row = 3, column = 1)\n",
    "L7 = tk.Label(window, text = 'Example: urn:freeopcua:python:server').grid(row = 3, column = 2)\n",
    "L5 = tk.Label(window, text = 'Set OPC_UA End_Point:', width = 30).grid(row = 4, column = 0)\n",
    "default_value_EP = StringVar()\n",
    "default_value_EP.set('opc.tcp://192.168.2.32:48400')\n",
    "E4 = tk.Entry(window, width = 40, textvariable = default_value_EP)\n",
    "E4.grid(row = 4, column = 1)\n",
    "L6 = tk.Label(window, text = 'Example: opc.tcp://192.168.2.32:48400').grid(row = 4, column = 2)"
   ]
  },
  {
   "cell_type": "code",
   "execution_count": 9,
   "metadata": {},
   "outputs": [],
   "source": [
    "#更新配置\n",
    "def update(*args):\n",
    "    OPC_UA_URI = 'urn:freeopcua:python:server'\n",
    "    OPC_UA_Endpoint = 'opc.tcp://192.168.2.32:48400/freeopcua/server/'\n",
    "B3 = tk.Button(window, text = 'Update', command = update).grid(row = 5, column = 0)"
   ]
  },
  {
   "cell_type": "code",
   "execution_count": 10,
   "metadata": {},
   "outputs": [],
   "source": [
    "class SubscriptionHandler(object):\n",
    "\tdef __init__(self,n):\n",
    "\t\tself.i = 0\n",
    "\t\tself.n = n\n",
    "\tdef final_datachange_notification(self, node, val, data):\n",
    "\t\tpath_as_string = node.get_path_as_string()\n",
    "\t\t# 'path_as_string' is a list of strings containing:\n",
    "\t\t# 0: 0:Root\n",
    "\t\t# 1: 1:Objects\n",
    "\t\t# 2: 2:OPC DA Server\n",
    "\t\t# 3 and onwards: 3:[Step of path to node in OPC-DA]\n",
    "\t\topc_da_address = '.'.join([a.split(':')[1] for a in path_as_string[3:]])\n",
    "\t\tcc = OpenOPC.client()\n",
    "\t\tcc.connect(OPC_DA_SERVER)\n",
    "\t\tprint('Datachange', opc_da_address, val, cc.write((opc_da_address, val,)))\n",
    "\t\tcc.close()\n",
    "\t# This function is called initially to catch the notifications from newly added nodes\n",
    "\tdef datachange_notification(self, node, val, data):\n",
    "\t\tself.i = self.i + 1\n",
    "\t\t#print('Catching meaningless datachange notification')\n",
    "\t\tif self.i == self.n:\n",
    "\t\t\t#print('Finished catching meaningless datachange notifications')\n",
    "\t\t\tself.datachange_notification = self.final_datachange_notification\n",
    "\n",
    "def read_value(value):\n",
    "\tvalue = value[0]\n",
    "\tif isinstance(value,decimal.Decimal):\n",
    "\t\tvalue = float(value)\n",
    "\telif isinstance(value,list):\n",
    "\t\tif len(value) == 0:\n",
    "\t\t\tvalue = None\n",
    "\telif isinstance(value,tuple):\n",
    "\t\tif len(value) == 0:\n",
    "\t\t\tvalue = None\n",
    "\treturn value\n"
   ]
  },
  {
   "cell_type": "code",
   "execution_count": 11,
   "metadata": {},
   "outputs": [],
   "source": [
    "def start():\n",
    "    logging.basicConfig()\n",
    "    OPC_DA_SERVER = 'Intellution.IntellutionGatewayOPCServer'\n",
    "    c.connect(OPC_DA_SERVER)\n",
    "    server = Server()\n",
    "    OPC_UA_Endpoint = 'opc.tcp://192.168.2.32:48400/freeopcua/server/'\n",
    "    server.set_endpoint(OPC_UA_Endpoint)\n",
    "    #server.load_certificate(OPC_UA_CERTIFICATE)\n",
    "    #server.load_private_key(OPC_UA_PRIVATE_KEY)\n",
    "    OPC_UA_URI = 'urn:freeopcua:python:server'\n",
    "    uri = OPC_UA_URI\n",
    "    idx = server.register_namespace(uri)\n",
    "    root = server.nodes.objects.add_object(idx, OPC_DA_SERVER)\n",
    "    ## 3. Discover OPC-DA server nodes\n",
    "    readable_variable_handles = {}\n",
    "    writeable_variable_handles = {}\n",
    "    nodes = c.list('*',recursive=True)\n",
    "    # 'nodes' is a list of dot-delimited strings.\n",
    "    tree = {}\n",
    "    #Matriton simulator has BUG for the following nodes! So remove them before trying to use Matriton simulator\n",
    "    #nodes.remove(u'Bucket Brigade.Time')\n",
    "    #nodes.remove(u'Random.Time')\n",
    "    #nodes.remove(u'Write Error.Time')\n",
    "    #nodes.remove(u'Write Only.Time')\n",
    "    for node in nodes:\n",
    "        parts = node.split('.')\n",
    "        # Folders are the steps on the path to the file.\n",
    "        folders = parts[:-1]\n",
    "        file = parts[-1]\n",
    "        # Create folder tree if it does not already exist\n",
    "        for i, folder in enumerate(folders,1):\n",
    "            if i == 1:\n",
    "                parent = root\n",
    "            else:\n",
    "                parent = tree[path]\n",
    "            path = '.'.join(folders[0:i])\n",
    "            if path not in tree.keys():\n",
    "                tree[path] = parent.add_folder(idx, folder.encode('utf-8'))\n",
    "        # 'path' is now the folder that file resides in.\n",
    "        # Determine node properties\n",
    "        node_obj = {}\n",
    "        for id, description_of_id, value in c.properties(node):\n",
    "            if id is ITEM_ACCESS_RIGHTS:\n",
    "                if value == 'Read':\n",
    "                    value = ACCESS_READ\n",
    "                elif value == 'Write':\n",
    "                    value = ACCESS_WRITE\n",
    "                elif value == 'Read/Write':\n",
    "                    value = ACCESS_READ_WRITE\n",
    "            node_obj[id] = value\n",
    "        current_value = read_value((node_obj[ITEM_VALUE],))\n",
    "        if type(current_value) != int:\n",
    "            current_value = 0\n",
    "        #print('Adding node '+file+' at path '+path)\n",
    "        opcua_node = tree[path].add_variable(idx, file.encode('utf-8'), ua.Variant(current_value, ua.VariantType.UInt16))\n",
    "        # Determine readable vs. writable\n",
    "        if node_obj[ITEM_ACCESS_RIGHTS] in [ACCESS_READ]:\n",
    "            readable_variable_handles[node] = opcua_node\n",
    "        if node_obj[ITEM_ACCESS_RIGHTS] in [ACCESS_WRITE, ACCESS_READ_WRITE]:\n",
    "            opcua_node.set_writable()\n",
    "            writeable_variable_handles[node] = opcua_node\n",
    "\n",
    "    try:\n",
    "        server.start()\n",
    "        ## 4. Subscribe to datachanges coming from OPC-UA clients\n",
    "        handler = SubscriptionHandler(len(writeable_variable_handles))\n",
    "        sub = server.create_subscription(100, handler).subscribe_data_change(writeable_variable_handles.values())\n",
    "        readables = list(readable_variable_handles.keys())\n",
    "        while True:\n",
    "            time.sleep(0.5)\n",
    "            ## 5. Read all readables simultaneously and update the OPC-UA variables\n",
    "            for reading in c.read(readables):\n",
    "                opc_da_id = reading[0]\n",
    "                variable_handle = readable_variable_handles[opc_da_id]\n",
    "                variable_handle.set_value(read_value(reading[1:]))\n",
    "    finally:\n",
    "        server.stop()\n",
    "        c.close()"
   ]
  },
  {
   "cell_type": "code",
   "execution_count": 12,
   "metadata": {},
   "outputs": [],
   "source": [
    "#启动转发\n",
    "\n",
    "B4 = tk.Button(window, text = 'Start', command = start).grid(row=5,column=1)"
   ]
  },
  {
   "cell_type": "code",
   "execution_count": null,
   "metadata": {
    "scrolled": true
   },
   "outputs": [
    {
     "name": "stderr",
     "output_type": "stream",
     "text": [
      "WARNING:opcua.server.server:Endpoints other than open requested but private key and certificate are not set.\n",
      "WARNING:opcua.server.binary_server_asyncio:Listening on 192.168.2.32:48400\n"
     ]
    }
   ],
   "source": [
    " #开启窗口\n",
    "window.mainloop()"
   ]
  }
 ],
 "metadata": {
  "kernelspec": {
   "display_name": "Python 2",
   "language": "python",
   "name": "python2"
  },
  "language_info": {
   "codemirror_mode": {
    "name": "ipython",
    "version": 2
   },
   "file_extension": ".py",
   "mimetype": "text/x-python",
   "name": "python",
   "nbconvert_exporter": "python",
   "pygments_lexer": "ipython2",
   "version": "2.7.15"
  }
 },
 "nbformat": 4,
 "nbformat_minor": 2
}
