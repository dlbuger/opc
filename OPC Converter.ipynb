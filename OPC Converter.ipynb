{
 "cells": [
  {
   "cell_type": "code",
   "execution_count": 1,
   "metadata": {},
   "outputs": [],
   "source": [
    "#!/usr/bin/python\n",
    "# -*- coding: UTF-8 -*-"
   ]
  },
  {
   "cell_type": "code",
   "execution_count": 2,
   "metadata": {},
   "outputs": [
    {
     "name": "stderr",
     "output_type": "stream",
     "text": [
      "No handlers could be found for logger \"opcua.client.client\"\n"
     ]
    }
   ],
   "source": [
    "import logging, time, sys, decimal, OpenOPC, ttk, tkFileDialog, urllib,urllib2\n",
    "\n",
    "from Tkinter import *\n",
    "import Tkinter as tk\n",
    "from datetime import datetime\n",
    "from opcua import ua, uamethod, Server"
   ]
  },
  {
   "cell_type": "code",
   "execution_count": 3,
   "metadata": {},
   "outputs": [],
   "source": [
    "logging.basicConfig()\n",
    "reload(sys)\n",
    "sys.setdefaultencoding('utf-8') "
   ]
  },
  {
   "cell_type": "code",
   "execution_count": 4,
   "metadata": {},
   "outputs": [],
   "source": [
    "# Constants\n",
    "ITEM_ID_VIRTUAL_PROPERTY = 0\n",
    "ITEM_CANONICAL_DATATYPE = 1\n",
    "ITEM_VALUE = 2\n",
    "ITEM_QUALITY = 3\n",
    "ITEM_TIMESTAMP = 4\n",
    "ITEM_ACCESS_RIGHTS = 5\n",
    "SERVER_SCAN_RATE = 6\n",
    "ITEM_EU_TYPE = 7\n",
    "ITEM_EU_INFO = 8\n",
    "ITEM_DESCRIPTION = 101\n",
    "ACCESS_READ = 0\n",
    "ACCESS_WRITE = 1\n",
    "ACCESS_READ_WRITE = 2"
   ]
  },
  {
   "cell_type": "code",
   "execution_count": 5,
   "metadata": {},
   "outputs": [
    {
     "data": {
      "text/plain": [
       "''"
      ]
     },
     "execution_count": 5,
     "metadata": {},
     "output_type": "execute_result"
    }
   ],
   "source": [
    "window = tk.Tk()\n",
    "window.title('OPC Converter')\n",
    "window.geometry('800x200')"
   ]
  },
  {
   "cell_type": "code",
   "execution_count": 6,
   "metadata": {},
   "outputs": [],
   "source": [
    "## 2. Connect to OPC-DA server\n",
    "c = OpenOPC.client()\n",
    "# List OPC-DA servers\n",
    "#servers = c.servers()"
   ]
  },
  {
   "cell_type": "code",
   "execution_count": 7,
   "metadata": {
    "scrolled": true
   },
   "outputs": [
    {
     "data": {
      "text/plain": [
       "'86165384getComboBox'"
      ]
     },
     "execution_count": 7,
     "metadata": {},
     "output_type": "execute_result"
    }
   ],
   "source": [
    "#下拉菜单 选择OPC_DA服务器\n",
    "def getComboBox(*arg):\n",
    "    OPC_DA_SERVER = C1.get()\n",
    "    print OPC_DA_SERVER\n",
    "L1 = tk.Label(window,text='Select a OPC_DA server:', width=30).grid(row = 0, column = 0)\n",
    "C1 = ttk.Combobox(window,value=(c.servers()), width = 40)\n",
    "C1.grid(row = 0, column = 1)\n",
    "C1.bind(\"<<ComboboxSelected>>\",getComboBox)\n"
   ]
  },
  {
   "cell_type": "code",
   "execution_count": 8,
   "metadata": {},
   "outputs": [],
   "source": [
    "#配置OPC_UA服务器\n",
    "def SelectCaPath():\n",
    "    path_Ca = tkFileDialog.askopenfilename(filetypes=[(\"der\",\"der\")])\n",
    "    pathCa.set(path_Ca)\n",
    "def SelectPkPath():\n",
    "    path_Pk = tkFileDialog.askopenfilename(filetypes=[(\"pem\",\"pem\")])\n",
    "    pathPk.set(path_Pk)\n",
    "pathCa = StringVar()\n",
    "pathPk = StringVar()\n",
    "\n",
    "# L2 = tk.Label(window, text = 'Set OPC_UA Certificate:', width = 30).grid(row = 1, column = 0)\n",
    "# E1 = tk.Entry(window, textvariable = pathCa, width = 40).grid(row = 1, column = 1)\n",
    "# B1 = tk.Button(window, text = 'Select file', command = SelectCaPath).grid(row = 1, column = 2)\n",
    "# L3 = tk.Label(window, text = 'Set OPC_UA Private_Key:', width = 30).grid(row = 2, column = 0)\n",
    "# E2 = tk.Entry(window, textvariable = pathPk, width = 40).grid(row = 2, column = 1)\n",
    "# B2 = tk.Button(window, text = 'Select file', command = SelectPkPath).grid(row = 2, column = 2)\n",
    "L4 = tk.Label(window, text = 'Set OPC_UA URI:', width = 30).grid(row = 3, column = 0)\n",
    "E3 = tk.Entry(window, width = 40)\n",
    "E3.grid(row = 3, column = 1)\n",
    "L7 = tk.Label(window, text = 'Example: urn:freeopcua:python:server').grid(row = 3, column = 2)\n",
    "L5 = tk.Label(window, text = 'Set OPC_UA End_Point:', width = 30).grid(row = 4, column = 0)\n",
    "E4 = tk.Entry(window, width = 40)\n",
    "E4.grid(row = 4, column = 1)\n",
    "L6 = tk.Label(window, text = 'Example: opc.tcp://192.168.2.32:48400').grid(row = 4, column = 2)"
   ]
  },
  {
   "cell_type": "code",
   "execution_count": 9,
   "metadata": {},
   "outputs": [],
   "source": [
    "#更新配置\n",
    "def update(*arg):\n",
    "    OPC_UA_URI = E3.get()\n",
    "    OPC_UA_Endpoint = E4.get()\n",
    "    print OPC_UA_URI\n",
    "    print OPC_UA_Endpoint\n",
    "B3 = tk.Button(window, text = 'Update', command = update).grid(row = 5, column = 0)"
   ]
  },
  {
   "cell_type": "code",
   "execution_count": 11,
   "metadata": {},
   "outputs": [
    {
     "ename": "NameError",
     "evalue": "name 'OPC_UA_Endpoint' is not defined",
     "output_type": "error",
     "traceback": [
      "\u001b[1;31m---------------------------------------------------------------------------\u001b[0m",
      "\u001b[1;31mNameError\u001b[0m                                 Traceback (most recent call last)",
      "\u001b[1;32m<ipython-input-11-e44a4f08e5ef>\u001b[0m in \u001b[0;36m<module>\u001b[1;34m()\u001b[0m\n\u001b[0;32m      2\u001b[0m     \u001b[0mserver\u001b[0m \u001b[1;33m=\u001b[0m \u001b[0mServer\u001b[0m\u001b[1;33m(\u001b[0m\u001b[1;33m)\u001b[0m\u001b[1;33m\u001b[0m\u001b[0m\n\u001b[0;32m      3\u001b[0m \u001b[1;33m\u001b[0m\u001b[0m\n\u001b[1;32m----> 4\u001b[1;33m \u001b[0mserver\u001b[0m\u001b[1;33m.\u001b[0m\u001b[0mset_endpoint\u001b[0m\u001b[1;33m(\u001b[0m\u001b[0mOPC_UA_Endpoint\u001b[0m\u001b[1;33m)\u001b[0m\u001b[1;33m\u001b[0m\u001b[0m\n\u001b[0m\u001b[0;32m      5\u001b[0m \u001b[1;31m#server.load_certificate(OPC_UA_CERTIFICATE)\u001b[0m\u001b[1;33m\u001b[0m\u001b[1;33m\u001b[0m\u001b[0m\n\u001b[0;32m      6\u001b[0m \u001b[1;31m#server.load_private_key(OPC_UA_PRIVATE_KEY)\u001b[0m\u001b[1;33m\u001b[0m\u001b[1;33m\u001b[0m\u001b[0m\n",
      "\u001b[1;31mNameError\u001b[0m: name 'OPC_UA_Endpoint' is not defined"
     ]
    }
   ],
   "source": [
    "def start(*arg):\n",
    "    "
   ]
  },
  {
   "cell_type": "code",
   "execution_count": null,
   "metadata": {},
   "outputs": [],
   "source": [
    "#启动转发\n",
    "\n",
    "B4 = tk.Button(window, text = 'Start', command = start).grid(row=5,column=1)"
   ]
  },
  {
   "cell_type": "code",
   "execution_count": null,
   "metadata": {},
   "outputs": [],
   "source": [
    " #开启窗口\n",
    "window.mainloop()"
   ]
  }
 ],
 "metadata": {
  "kernelspec": {
   "display_name": "Python 2",
   "language": "python",
   "name": "python2"
  },
  "language_info": {
   "codemirror_mode": {
    "name": "ipython",
    "version": 2
   },
   "file_extension": ".py",
   "mimetype": "text/x-python",
   "name": "python",
   "nbconvert_exporter": "python",
   "pygments_lexer": "ipython2",
   "version": "2.7.15"
  }
 },
 "nbformat": 4,
 "nbformat_minor": 2
}
