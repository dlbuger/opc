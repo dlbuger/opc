{
 "cells": [
  {
   "cell_type": "code",
   "execution_count": 1,
   "metadata": {},
   "outputs": [],
   "source": [
    "#!/usr/bin/python\n",
    "# -*- coding: UTF-8 -*-"
   ]
  },
  {
   "cell_type": "code",
   "execution_count": 2,
   "metadata": {},
   "outputs": [
    {
     "name": "stderr",
     "output_type": "stream",
     "text": [
      "No handlers could be found for logger \"opcua.client.client\"\n"
     ]
    }
   ],
   "source": [
    "import logging, time, sys, decimal, OpenOPC, ttk, tkFileDialog\n",
    "from Tkinter import *\n",
    "import Tkinter as tk\n",
    "from datetime import datetime\n",
    "from opcua import ua, uamethod, Server"
   ]
  },
  {
   "cell_type": "code",
   "execution_count": 3,
   "metadata": {},
   "outputs": [],
   "source": [
    "opc = OpenOPC.client() \n",
    "opc.servers()\n",
    "opc_list=opc.servers()"
   ]
  },
  {
   "cell_type": "code",
   "execution_count": 4,
   "metadata": {},
   "outputs": [
    {
     "data": {
      "text/plain": [
       "''"
      ]
     },
     "execution_count": 4,
     "metadata": {},
     "output_type": "execute_result"
    }
   ],
   "source": [
    "window = tk.Tk()\n",
    "window.title('OPC Converter')\n",
    "window.geometry('650x512')"
   ]
  },
  {
   "cell_type": "code",
   "execution_count": 5,
   "metadata": {},
   "outputs": [],
   "source": [
    "#下拉菜单 选择OPC_DA服务器\n",
    "L1 = tk.Label(window,text='Select a OPC_DA server:', width=30).grid(row = 0, column = 0)\n",
    "C1 = ttk.Combobox(window,value=(opc.servers()), width = 40).grid(row = 0, column = 1)"
   ]
  },
  {
   "cell_type": "code",
   "execution_count": 6,
   "metadata": {},
   "outputs": [],
   "source": [
    "#配置OPC_UA服务器\n",
    "def SelectCaPath():\n",
    "    path_Ca = tkFileDialog.askopenfilename(filetypes=[(\"der\",\"der\")])\n",
    "    pathCa.set(path_Ca)\n",
    "def SelectPkPath():\n",
    "    path_Pk = tkFileDialog.askopenfilename(filetypes=[(\"pem\",\"pem\")])\n",
    "    pathPk.set(path_Pk)\n",
    "pathCa = StringVar()\n",
    "pathPk = StringVar()\n",
    "L2 = tk.Label(window, text = 'Set OPC_UA Certificate:', width = 30).grid(row = 1, column = 0)\n",
    "E1 = tk.Entry(window, textvariable = pathCa, width = 40).grid(row = 1, column = 1)\n",
    "B1 = tk.Button(window, text = 'Select file', command = SelectCaPath).grid(row = 1, column = 2)\n",
    "L3 = tk.Label(window, text = 'Set OPC_UA Private_Key:', width = 30).grid(row = 2, column = 0)\n",
    "E2 = tk.Entry(window, textvariable = pathPk, width = 40).grid(row = 2, column = 1)\n",
    "B2 = tk.Button(window, text = 'Select file', command = SelectPkPath).grid(row = 2, column = 2)\n",
    "L4 = tk.Label(window, text = 'Set OPC_UA URI:', width = 30).grid(row = 3, column = 0)\n",
    "E3 = tk.Entry(window, width = 40).grid(row = 3, column = 1)\n",
    "L5 = tk.Label(window, text = 'Set OPC_UA End_Point:', width = 30).grid(row = 4, column = 0)\n",
    "E4 = tk.Entry(window, width = 40).grid(row = 4, column = 1)"
   ]
  },
  {
   "cell_type": "code",
   "execution_count": 7,
   "metadata": {},
   "outputs": [],
   "source": [
    "#启动转发\n",
    "B3 = tk.Button(window, text = 'Start').grid(row=5,column=1)"
   ]
  },
  {
   "cell_type": "code",
   "execution_count": 8,
   "metadata": {},
   "outputs": [],
   "source": [
    " #开启窗口\n",
    "window.mainloop()"
   ]
  }
 ],
 "metadata": {
  "kernelspec": {
   "display_name": "Python 2",
   "language": "python",
   "name": "python2"
  },
  "language_info": {
   "codemirror_mode": {
    "name": "ipython",
    "version": 2
   },
   "file_extension": ".py",
   "mimetype": "text/x-python",
   "name": "python",
   "nbconvert_exporter": "python",
   "pygments_lexer": "ipython2",
   "version": "2.7.15"
  }
 },
 "nbformat": 4,
 "nbformat_minor": 2
}
